{
 "metadata": {
  "name": "",
  "signature": "sha256:64b9f685be12196cab4412cbd2d74ee238089fade30eb1e19b361d331e1616ac"
 },
 "nbformat": 3,
 "nbformat_minor": 0,
 "worksheets": [
  {
   "cells": [
    {
     "cell_type": "markdown",
     "metadata": {},
     "source": [
      "Content provided under a Creative Commons Attribution license, CC-BY 4.0; code under MIT license. (c)2014 Cameron Parvini"
     ]
    },
    {
     "cell_type": "heading",
     "level": 1,
     "metadata": {},
     "source": [
      "The Effect of Flap Angle on Streamlines and $C_{p}$ around a Fowler-Style Airfoil Pair"
     ]
    },
    {
     "cell_type": "markdown",
     "metadata": {},
     "source": [
      "Individuals alive during the early-to-mid twentieth century have often remarked that the pace of life accelerated quickly; when one considers that a person born in 1900 would be alive to see transportation move from horse and buggy to automobiles and rockets, those remarks are put into proper context. Interestingly enough, the subject of this notebook harkens back to a time before the fluid mechanics push of the 1960's and the space race, yet still finds itself relevant to modern-day aeronautics: the Fowler flap."
     ]
    },
    {
     "cell_type": "markdown",
     "metadata": {},
     "source": [
      "In 1924, Harlan D. Fowler first created the design for a variable area wing in the pursuit of higher lift. By 1927 Fowler was already testing his flap design in conjunction with airplane mechanic Stanley Crewfoot. Several years passed before the National Advisory Committee for Aeronautics (NACA for short, sound familiar?) determined that \"...the Fowler flap would reduce landing speed, decrease landing and take-off runs, and improve climbing ability.\" $^{1}$ Fowler's crowning achievement would first fly for the Germans on their Fieseler Fi 97, followed by the Lockheed 14 Twin-Engine Airliner, and going on to accumulate an impressive list of clients: the Boeing B-29 bombers, Lockheed P-38 Ligtning, and Boeing B-17 to name just a few. The Fowler flap still remains in circulation nearly 89 years after its inception, flying on the Boeing 707, 737, 747, Lockheed Martin C-130, Northrop-Grumman E-2C, and many, many more."
     ]
    },
    {
     "cell_type": "markdown",
     "metadata": {},
     "source": [
      "To begin our analysis, lets first look at the wing geometry, courtesy of a 1976 NASA wind-tunnel study on the Fowler flap in general aviation:"
     ]
    },
    {
     "cell_type": "markdown",
     "metadata": {},
     "source": [
      "**Figure 1: Fowler Flap Geometry** <img src=\"NASAFowler.jpg\"> **Image Credit:** Paulson, John W. Jr., *\"Wind-Tunnel Investigation of a Fowler Flap and Spoiler for an Advanced General Aviation Wing,\"* Langley Research Center, Hampton, VA 23665. June 1976. NASA TN D-8236."
     ]
    },
    {
     "cell_type": "markdown",
     "metadata": {},
     "source": [
      "As you can see, the system is relatively complex and includes a spoiler on top, vent, and nested Fowler flap mechanism that can be stored during flight when the excess lift isn't necessary. The elegance of Mr. Fowler's solution is evident not only from images like Figure 1, but from the longevity of the Fowler Flap."
     ]
    },
    {
     "cell_type": "markdown",
     "metadata": {},
     "source": [
      "For our purposes, however, we will be looking at a fully extended Fowler flap with a well studied airfoil: the NACA 23012. Finally, the coding can start!"
     ]
    },
    {
     "cell_type": "markdown",
     "metadata": {},
     "source": [
      "Lets begin by loading the airfoil geometry. We will be utilizing two .csv files from the AeroPython course repository that have been copied into our local project directory."
     ]
    },
    {
     "cell_type": "code",
     "collapsed": false,
     "input": [],
     "language": "python",
     "metadata": {},
     "outputs": []
    },
    {
     "cell_type": "markdown",
     "metadata": {},
     "source": [
      "There are 150 panels on each airfoil, giving a grand total of 300 panels that we need to consider in the flow. A novice fluid dynamicist might say, \"I thought our beloved Principle of Superposition meant that we could simply pass each airfoil through our legacy code from Lesson 10 and 11? Why would we need to pass all of our panels through at once?\""
     ]
    },
    {
     "cell_type": "markdown",
     "metadata": {},
     "source": [
      "A fair question, but consider this: we learned that our fundamental singularities like the vortex and doublet have an effect on points in the flow both near and far. If we were to simply exclude the panels from the flap airfoil in our analysis of the main airfoil, we would be leaving out a _huge_ effect! The source and vortex sheet from our panel method would remain uncompensated on the first airfoil, and in effect each airfoil would be blind to the other! Our values for the circulation and source strength on each panel would be totally wrong in this case. In effect, we need one **huge** linear system of equations describing the effect of each panel on every other in the flow, compensating for the source and vortex strengths, and making sure to satisfy the Kutta condition on the trailing edge (TE) of both airfoils."
     ]
    },
    {
     "cell_type": "code",
     "collapsed": false,
     "input": [],
     "language": "python",
     "metadata": {},
     "outputs": []
    },
    {
     "cell_type": "markdown",
     "metadata": {},
     "source": [
      "http://socialarchive.iath.virginia.edu/xtf/view?docId=fowler-harlan-davey-1895--cr.xml\n",
      "\n",
      "Paulson, John W. Jr., *\"Wind-Tunnel Investigation of a Fowler Flap and Spoiler for an Advanced General Aviation Wing,\"* Langley Research Center, Hampton, VA 23665. June 1976. NASA TN D-8236.\n",
      "\n"
     ]
    },
    {
     "cell_type": "code",
     "collapsed": false,
     "input": [
      "from IPython.core.display import HTML\n",
      "def css_styling():\n",
      "    styles = open(\"styles/custom.css\", \"r\").read()\n",
      "    return HTML(styles)\n",
      "css_styling();"
     ],
     "language": "python",
     "metadata": {},
     "outputs": [],
     "prompt_number": 3
    }
   ],
   "metadata": {}
  }
 ]
}