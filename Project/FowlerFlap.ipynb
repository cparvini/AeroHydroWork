{
 "metadata": {
  "name": "",
  "signature": "sha256:4f9f45eea5f8a37c83b613881012fdad7f942b6544fcc95dd453f2f4f68a9c5b"
 },
 "nbformat": 3,
 "nbformat_minor": 0,
 "worksheets": [
  {
   "cells": [
    {
     "cell_type": "markdown",
     "metadata": {},
     "source": [
      "Content provided under a Creative Commons Attribution license, CC-BY 4.0; code under MIT license. (c)2014 Cameron Parvini"
     ]
    },
    {
     "cell_type": "heading",
     "level": 1,
     "metadata": {},
     "source": [
      "The Effect of Flap Angle on Streamlines and $C_{p}$ around a Fowler-Style Airfoil Pair"
     ]
    },
    {
     "cell_type": "markdown",
     "metadata": {},
     "source": [
      "Individuals alive during the early-to-mid twentieth century have often remarked that the pace of life accelerated quickly; when one considers that a person born in 1900 would be alive to see transportation move from horse and buggy to automobiles and rockets, those remarks are put into proper context. Interestingly enough, the subject of this notebook harkens back to a time before the fluid mechanics push of the 1960's and the space race, yet still finds itself relevant to modern-day aeronautics: the Fowler flap."
     ]
    },
    {
     "cell_type": "markdown",
     "metadata": {},
     "source": [
      "In 1924, Harlan D. Fowler first created the design for a variable area wing in the pursuit of higher lift. By 1927 Fowler was already testing his flap design in conjunction with airplane mechanic Stanley Crewfoot. Several years passed before the National Advisory Committee for Aeronautics (NACA for short, sound familiar?) determined that \"...the Fowler flap would reduce landing speed, decrease landing and take-off runs, and improve climbing ability.\" $^{1}$ Fowler's crowning achievement would first fly for the Germans on their Fieseler Fi 97, followed by the Lockheed 14 Twin-Engine Airliner, and going on to accumulate an impressive list of clients: the Boeing B-29 bombers, Lockheed P-38 Ligtning, and Boeing B-17 to name just a few. The Fowler flap still remains in circulation nearly 89 years after its inception, flying on the Boeing 707, 737, 747, Lockheed Martin C-130, Northrop-Grumman E-2C, and many, many more."
     ]
    },
    {
     "cell_type": "markdown",
     "metadata": {},
     "source": [
      "To begin our analysis, lets first look at the wing geometry, courtesy of a 1976 NASA wind-tunnel study on the Fowler flap in general aviation:"
     ]
    },
    {
     "cell_type": "markdown",
     "metadata": {},
     "source": [
      "**Figure 1: Fowler Flap Geometry** <img src=\"NASAFowler.jpg\"> **Image Credit:** Paulson, John W. Jr., *\"Wind-Tunnel Investigation of a Fowler Flap and Spoiler for an Advanced General Aviation Wing,\"* Langley Research Center, Hampton, VA 23665. June 1976. NASA TN D-8236."
     ]
    },
    {
     "cell_type": "markdown",
     "metadata": {},
     "source": [
      "As you can see, the system is relatively complex and includes a spoiler on top, vent, and nested Fowler flap mechanism that can be stored during flight when the excess lift isn't necessary. The elegance of Mr. Fowler's solution is evident not only from the geometry shown in Figure 1, but also from the longevity of the Fowler Flap."
     ]
    },
    {
     "cell_type": "markdown",
     "metadata": {},
     "source": [
      "For our purposes, however, we will simplify our analysis by looking at a fully extended Fowler flap with a well studied airfoil: the NACA 23012. Finally, the coding can start!"
     ]
    },
    {
     "cell_type": "markdown",
     "metadata": {},
     "source": [
      "Lets begin by loading our favorite libraries and the airfoil geometry. We will be utilizing two .csv files from the AeroPython course repository that have been copied into our local project directory."
     ]
    },
    {
     "cell_type": "code",
     "collapsed": false,
     "input": [
      "import math\n",
      "import numpy\n",
      "from scipy import integrate\n",
      "from matplotlib import pyplot\n",
      "%matplotlib inline"
     ],
     "language": "python",
     "metadata": {},
     "outputs": [],
     "prompt_number": 1
    },
    {
     "cell_type": "code",
     "collapsed": false,
     "input": [
      "# Read the new values\n",
      "N = 150\n",
      "Nx, Ny = 100, 100\n",
      "\n",
      "with open ('NACA23012_MainFoil.csv') as file_name:\n",
      "    xm, ym = numpy.genfromtxt(file_name, dtype=float, delimiter=',', unpack=True)\n",
      "\n",
      "with open ('NACA23012_FlapFoil.csv') as file_name:\n",
      "    xf, yf = numpy.genfromtxt(file_name, dtype=float, delimiter=',', unpack=True)\n",
      "\n",
      "pyplot.figure(figsize=(10,2))\n",
      "pyplot.plot(xm, ym, xf, yf,  color='k', linestyle='-', linewidth=2);"
     ],
     "language": "python",
     "metadata": {},
     "outputs": [
      {
       "metadata": {},
       "output_type": "display_data",
       "png": "[encoded data removed]",
       "text": [
        "<matplotlib.figure.Figure at 0xe567f98>"
       ]
      }
     ],
     "prompt_number": 2
    },
    {
     "cell_type": "markdown",
     "metadata": {},
     "source": [
      "Great, now we've got our airfoil geometry loaded and ready to go, right? Not so fast! We're gonna need a bit of math to get that rear foil to rotate exactly like we want to. The math is relatively simple, and falls out of some basic trigonometric relations given a rotation center ($x_{c},y_{c}$) and our original coordinates for the rear airfoil ($x,y$):"
     ]
    },
    {
     "cell_type": "markdown",
     "metadata": {},
     "source": [
      "$$x' =\\ x cos(\\theta) - y sin(\\theta)$$\n",
      "$$y' =\\ x sin(\\theta) + y sin(\\theta)$$"
     ]
    },
    {
     "cell_type": "markdown",
     "metadata": {},
     "source": [
      "Where ($x',y'$) are our new, rotated locations given a specified angle of attack for the rear airfoil, $\\theta$. In order for the transformation to work properly however, the rotation must happen about the origin (which we know isn't the case here), so we need to also shift our locations by ($-x_{c},-y_{c}$) then move the points back afterwards. Now we can write a quick little function to rotate our coordinates for us and clean up the code later."
     ]
    },
    {
     "cell_type": "code",
     "collapsed": false,
     "input": [
      "def theta_transform(xf, yf, xc, yc, theta):\n",
      "    \"\"\"Rotates the foil about a point.\n",
      "    \n",
      "    Arguments\n",
      "    ---------\n",
      "    xf, yf -- arrays of panel endpoints.\n",
      "    xc, yc -- scalar xy location of rotation center\n",
      "    theta -- angle of rotation measured CCW\n",
      "    \n",
      "    Returns\n",
      "    -------\n",
      "    xfp,yfp -- arrays of rotated points.\n",
      "    \"\"\"   \n",
      "    theta = theta * math.pi / 180.\n",
      "    \n",
      "    xf, yf = xf - xc, yf - yc\n",
      "\n",
      "    xf = xf * math.cos(theta) + yf * math.sin(theta)\n",
      "    yf = -xf * math.sin(theta) + yf * math.cos(theta)\n",
      "\n",
      "    xfp, yfp = xf + xc, yf + yc\n",
      "    \n",
      "    return xfp, yfp"
     ],
     "language": "python",
     "metadata": {},
     "outputs": [],
     "prompt_number": 3
    },
    {
     "cell_type": "markdown",
     "metadata": {},
     "source": [
      "Wonderful! Let's go ahead and move our geometry and then plot the new, rotated airfoil."
     ]
    },
    {
     "cell_type": "code",
     "collapsed": false,
     "input": [
      "xc, yc = 1.03, -0.054\n",
      "theta = 20.\n",
      "\n",
      "xf, yf = theta_transform(xf, yf, xc, yc, theta)\n",
      "\n",
      "pyplot.figure(figsize=(10,2))\n",
      "pyplot.plot(xm, ym, xf, yf,  color='k', linestyle='-', linewidth=2);"
     ],
     "language": "python",
     "metadata": {},
     "outputs": [
      {
       "metadata": {},
       "output_type": "display_data",
       "png": "[encoded data removed]",
       "text": [
        "<matplotlib.figure.Figure at 0xe626978>"
       ]
      }
     ],
     "prompt_number": 4
    },
    {
     "cell_type": "markdown",
     "metadata": {},
     "source": [
      "Just like that, we have a proof of concept for our rotation function! This will prove very useful later."
     ]
    },
    {
     "cell_type": "markdown",
     "metadata": {},
     "source": [
      "There are 150 panels on each airfoil, giving a grand total of 300 panels that we need to consider in the flow. A novice fluid dynamicist might say, \"I thought our beloved Principle of Superposition meant that we could simply pass each airfoil through our legacy code from Lesson 10 and 11? Why would we need to pass all of our panels through at once?\""
     ]
    },
    {
     "cell_type": "markdown",
     "metadata": {},
     "source": [
      "A fair question, but consider this: we learned that our fundamental singularities like the vortex and doublet have an effect on points in the flow both near and far. If we were to simply exclude the panels from the flap airfoil in our analysis of the main airfoil, we would be leaving out a _huge_ effect! The source and vortex sheet from our panel method would remain uncompensated on the first airfoil, and in effect each airfoil would be blind to the other! Our values for the circulation and source strength on each panel would be totally wrong in this case. In effect, we need one **huge** linear system of equations describing the effect of each panel on every other in the flow, compensating for the source and vortex strengths, and making sure to satisfy the Kutta condition on the trailing edge (TE) of both airfoils."
     ]
    },
    {
     "cell_type": "markdown",
     "metadata": {},
     "source": [
      "Now, using a modified form of our legacy code from Lesson 11 we can read in our ($x,y$) coordinates as our panel endpoints. Let's go ahead and bring some useful pieces into our current problem! First, our panel class:"
     ]
    },
    {
     "cell_type": "code",
     "collapsed": false,
     "input": [
      "class Panel:\n",
      "    \"\"\"Contains information related to one panel.\"\"\"\n",
      "    def __init__(self, xa, ya, xb, yb):\n",
      "        \"\"\"Creates a panel.\n",
      "        \n",
      "        Arguments\n",
      "        ---------\n",
      "        xa, ya -- Cartesian coordinates of the first end-point.\n",
      "        xb, yb -- Cartesian coordinates of the second end-point.\n",
      "        \"\"\"\n",
      "        self.xa, self.ya = xa, ya\n",
      "        self.xb, self.yb = xb, yb\n",
      "        \n",
      "        self.xc, self.yc = (xa+xb)/2, (ya+yb)/2       # control-point (center-point)\n",
      "        self.length = math.sqrt((xb-xa)**2+(yb-ya)**2)     # length of the panel\n",
      "        \n",
      "        # orientation of the panel (angle between x-axis and panel's normal)\n",
      "        if xb-xa <= 0.:\n",
      "            self.beta = math.acos((yb-ya)/self.length)\n",
      "        elif xb-xa > 0.:\n",
      "            self.beta = math.pi + math.acos(-(yb-ya)/self.length)\n",
      "        \n",
      "        # location of the panel\n",
      "        if self.beta <= math.pi:\n",
      "            self.loc = 'extrados'\n",
      "        else:\n",
      "            self.loc = 'intrados'\n",
      "        \n",
      "        self.sigma = 0.                             # source strength\n",
      "        self.vt = 0.                                # tangential velocity\n",
      "        self.cp = 0.                                # pressure coefficient"
     ],
     "language": "python",
     "metadata": {},
     "outputs": [],
     "prompt_number": 5
    },
    {
     "cell_type": "markdown",
     "metadata": {},
     "source": [
      "Then, our Freestream class:"
     ]
    },
    {
     "cell_type": "code",
     "collapsed": false,
     "input": [
      "class Freestream:\n",
      "    \"\"\"Freestream conditions.\"\"\"\n",
      "    def __init__(self, u_inf, alpha):\n",
      "        \"\"\"Sets the freestream conditions.\n",
      "        \n",
      "        Arguments\n",
      "        ---------\n",
      "        u_inf -- Farfield speed (default 1.0).\n",
      "        alpha -- Angle of attack in degrees (default 0.0).\n",
      "        \"\"\"\n",
      "        self.u_inf = u_inf\n",
      "        self.alpha = alpha*math.pi/180          # degrees --> radians"
     ],
     "language": "python",
     "metadata": {},
     "outputs": [],
     "prompt_number": 6
    },
    {
     "cell_type": "markdown",
     "metadata": {},
     "source": [
      "...and finally, our new form of the define_panels() function!"
     ]
    },
    {
     "cell_type": "code",
     "collapsed": false,
     "input": [
      "def define_panels(x, y, N):\n",
      "    \"\"\"Discretizes the geometry into panels using input arrays for the ends of the panels.\n",
      "    \n",
      "    Arguments\n",
      "    ---------\n",
      "    x, y -- Cartesian coordinates of the panel endpoints.\n",
      "    N - number of panels.\n",
      "    \n",
      "    Returns\n",
      "    -------\n",
      "    panels -- Numpy array of panels.\n",
      "    \"\"\"\n",
      "    x_ends, y_ends = x, y\n",
      "    panels = numpy.empty(N, dtype=object)\n",
      "    \n",
      "    for i in xrange(N):\n",
      "        panels[i] = Panel(x_ends[i], y_ends[i], x_ends[i+1], y_ends[i+1])\n",
      "    \n",
      "    return panels"
     ],
     "language": "python",
     "metadata": {},
     "outputs": [],
     "prompt_number": 22
    },
    {
     "cell_type": "markdown",
     "metadata": {},
     "source": [
      "We're well underway already with the code, but there are still a few pieces remaining. We need our source-vortex panel method functions to integrate, build our $\\vec{b}$ array, get our tangential velocity $v_{t}$, further build our pressure coefficients, and then finally a plottable velocity grid. Beware, functions ahead!"
     ]
    },
    {
     "cell_type": "code",
     "collapsed": false,
     "input": [
      "def integral(x, y, panel, dxdz, dydz):\n",
      "    \"\"\"Evaluates the contribution of a panel at one point.\n",
      "    \n",
      "    Arguments\n",
      "    ---------\n",
      "    x, y -- Cartesian coordinates of the point.\n",
      "    panel -- panel which contribution is evaluated.\n",
      "    dxdz -- derivative of x in the z-direction.\n",
      "    dydz -- derivative of y in the z-direction.\n",
      "    \n",
      "    Returns\n",
      "    -------\n",
      "    Integral over the panel of the influence at one point.\n",
      "    \"\"\"\n",
      "    def func(s):\n",
      "        return ( ((x - (panel.xa - math.sin(panel.beta)*s))*dxdz \n",
      "                  + (y - (panel.ya + math.cos(panel.beta)*s))*dydz)\n",
      "                / ((x - (panel.xa - math.sin(panel.beta)*s))**2 \n",
      "                   + (y - (panel.ya + math.cos(panel.beta)*s))**2) )\n",
      "    return integrate.quad(lambda s:func(s), 0., panel.length)[0]"
     ],
     "language": "python",
     "metadata": {},
     "outputs": [],
     "prompt_number": 23
    },
    {
     "cell_type": "markdown",
     "metadata": {},
     "source": [
      "Before we use our build_rhs() function, we need to make sure that it can deal with the fact that we're going to have $\\it{two}$ $\\gamma$ values in the flow. We know that the circulation will be a constant along an airfoil based on the definition of our panel method, but extending it to two bodies requires the possibility of different values of $\\gamma$ for each body, and additionally two Kutta conditions! Let's see how we can do that:"
     ]
    },
    {
     "cell_type": "code",
     "collapsed": false,
     "input": [
      "def build_rhs(panels, freestream):\n",
      "    \"\"\"Builds the RHS of the linear system.\n",
      "    \n",
      "    Arguments\n",
      "    ---------\n",
      "    panels -- array of panels.\n",
      "    freestream -- farfield conditions.\n",
      "    \n",
      "    Returns\n",
      "    -------\n",
      "    b -- 1D array ((N+2), N is the number of panels).\n",
      "    \"\"\"\n",
      "    N = len(panels)\n",
      "    b = numpy.empty(N+2,dtype=float)\n",
      "    \n",
      "    for i, panel in enumerate(panels):\n",
      "        b[i] = - freestream.u_inf * math.cos(freestream.alpha - panel.beta)\n",
      "    \n",
      "    b[N] = -freestream.u_inf*( math.sin(freestream.alpha-panels[0].beta)\n",
      "                              +math.sin(freestream.alpha-panels[(N/2)-1].beta) )\n",
      "    b[N+1] = -freestream.u_inf*( math.sin(freestream.alpha-panels[(N/2)].beta)\n",
      "                              +math.sin(freestream.alpha-panels[N-1].beta) )\n",
      "    \n",
      "    return b"
     ],
     "language": "python",
     "metadata": {},
     "outputs": [],
     "prompt_number": 24
    },
    {
     "cell_type": "markdown",
     "metadata": {},
     "source": [
      "Wait, that's it? Yup! All we needed to do was make sure we grabbed the right indices for each TE panel pair: the first and last cell of the main airfoil array, and the first then last cell of the flap airfoil array. Simple, no?"
     ]
    },
    {
     "cell_type": "markdown",
     "metadata": {},
     "source": [
      "The next slight change comes in the tangential velocity function to simplify some of the work; since we will be calculating the tangential form for the effects of each panel on one another ($A_{ij}^{t}$) in order to create the full linear system $A_{ij}$, it makes sense to pass the variable into our tangential velocity function to save a bit of time."
     ]
    },
    {
     "cell_type": "code",
     "collapsed": false,
     "input": [
      "def get_tangential_velocity(panels, freestream, gamma, At):\n",
      "    \"\"\"Computes the tangential velocity on the surface.\n",
      "    \n",
      "    Arguments\n",
      "    ---------\n",
      "    panels -- array of panels.\n",
      "    freestream -- farfield conditions.\n",
      "    gamma -- circulation density.\n",
      "    At -- Tangential form of the Aij matrix; Simply the source matrix with the\n",
      "          vortex array added to the side.\n",
      "    \"\"\"\n",
      "    N = len(panels)\n",
      "    \n",
      "    var = numpy.append([panel.sigma for panel in panels], gamma)\n",
      "    \n",
      "    b = freestream.u_inf * numpy.sin([freestream.alpha - panel.beta for panel in panels])\n",
      "    vt = numpy.dot(At, var) + b\n",
      "    \n",
      "    for i, panel in enumerate(panels):\n",
      "        panel.vt = vt[i]"
     ],
     "language": "python",
     "metadata": {},
     "outputs": [],
     "prompt_number": 25
    },
    {
     "cell_type": "markdown",
     "metadata": {},
     "source": [
      "Wonderful! We're so close now, we just need a couple more functions to get our $C_{p}$ and velocity field:"
     ]
    },
    {
     "cell_type": "code",
     "collapsed": false,
     "input": [
      "def get_pressure_coefficient(panels, freestream):\n",
      "    \"\"\"Computes the surface pressure coefficients.\n",
      "    \n",
      "    Arguments\n",
      "    ---------\n",
      "    panels -- array of panels.\n",
      "    freestream -- farfield conditions.\n",
      "    \"\"\"\n",
      "    for panel in panels:\n",
      "        panel.cp = 1.0 - (panel.vt/freestream.u_inf)**2"
     ],
     "language": "python",
     "metadata": {},
     "outputs": [],
     "prompt_number": 26
    },
    {
     "cell_type": "code",
     "collapsed": false,
     "input": [
      "def get_velocity_field(panels, freestream, X, Y):\n",
      "    \"\"\"Returns the velocity field.\n",
      "    \n",
      "    Arguments\n",
      "    ---------\n",
      "    panels -- array of panels.\n",
      "    freestream -- farfield conditions.\n",
      "    X, Y -- mesh grid.\n",
      "    \"\"\"\n",
      "    Nx, Ny = X.shape\n",
      "    u, v = numpy.empty((Nx, Ny), dtype=float), numpy.empty((Nx, Ny), dtype=float)\n",
      "    \n",
      "    for i in xrange(Nx):\n",
      "        for j in xrange(Ny):\n",
      "            u[i,j] = freestream.u_inf*math.cos(freestream.alpha)\\\n",
      "                     + 0.5/math.pi*sum([p.sigma*integral(X[i,j], Y[i,j], p, 1, 0) for p in panels])\n",
      "            v[i,j] = freestream.u_inf*math.sin(freestream.alpha)\\\n",
      "                     + 0.5/math.pi*sum([p.sigma*integral(X[i,j], Y[i,j], p, 0, 1) for p in panels])\n",
      "    \n",
      "    return u, v"
     ],
     "language": "python",
     "metadata": {},
     "outputs": [],
     "prompt_number": 27
    },
    {
     "cell_type": "code",
     "collapsed": false,
     "input": [
      "def source_matrix(panels):\n",
      "    \"\"\"Builds the source matrix.\n",
      "    \n",
      "    Arguments\n",
      "    ---------\n",
      "    panels -- array of panels.\n",
      "    \n",
      "    Returns\n",
      "    -------\n",
      "    A -- NxN matrix (N is the number of panels).\n",
      "    \"\"\"\n",
      "    N = len(panels)\n",
      "    A = numpy.empty((N, N), dtype=float)\n",
      "    numpy.fill_diagonal(A, 0.5)\n",
      "    \n",
      "    for i, p_i in enumerate(panels):\n",
      "        for j, p_j in enumerate(panels):\n",
      "            if i != j:\n",
      "                A[i,j] = 0.5/math.pi*integral(p_i.xc, p_i.yc, p_j, math.cos(p_i.beta), math.sin(p_i.beta))\n",
      "    \n",
      "    return A"
     ],
     "language": "python",
     "metadata": {},
     "outputs": [],
     "prompt_number": 36
    },
    {
     "cell_type": "markdown",
     "metadata": {},
     "source": [
      "Wow, that was a mouthful (or a page-ful, at least!). In order to move forward, we're going to need one last function to tie everything together: our build_matrix function. Since we will be dealing with two bodies in the flow, we will need to create a matrix $A_{ij}$ that is (N+2)x(N+2) in size (which I'm sure you already know from reading the function descriptions above!). These extra two equations are the Kutta conditions on each airfoil, taking the form:"
     ]
    },
    {
     "cell_type": "markdown",
     "metadata": {},
     "source": [
      "$$\n",
      "U_{t,1} =\\ - U_{t,N_{main}}$$\n",
      "$$\n",
      "U_{t,N_{main}+1} =\\ - U_{t,N}\n",
      "$$"
     ]
    },
    {
     "cell_type": "markdown",
     "metadata": {},
     "source": [
      "Where $N_{main}$ is the number of points on the main airfoil, and $N = N_{main} + N_{flap}$. Utilizing this information, we can re-write our matrix forms of the normal and tangential velocity to express them in terms of the two bodies. From the Lesson 11 assignment:"
     ]
    },
    {
     "cell_type": "markdown",
     "metadata": {},
     "source": [
      "$$\n",
      "U^n_i = b^n_i + \n",
      "\\left[\\begin{smallmatrix}A^n_{i1}\\cdots A^n_{iN_{main}}\\end{smallmatrix}, \\sum_{j=1}^{N_{main}}B^n_{ij}, \\sum_{j=N_{main+1}}^{N}B^n_{ij}\\right]\n",
      "\\left[\\begin{smallmatrix}\\sigma_1 \\\\ \\vdots \\\\ \\sigma_N \\\\ \\gamma_a \\\\ \\gamma_b\\end{smallmatrix}\\right]\n",
      "$$\n",
      "\n",
      "$$\n",
      "U^t_i = b^t_i + \n",
      "\\left[\\begin{smallmatrix}A^t_{i1}\\cdots A^t_{iN_{main}}\\end{smallmatrix}, \\sum_{j=1}^{N_{main}}B^t_{ij}, \\sum_{j=N_{main}+1}^{N}B^t_{ij}\\right]\n",
      "\\left[\\begin{smallmatrix}\\sigma_1 \\\\ \\vdots \\\\ \\sigma_N \\\\ \\gamma_a \\\\ \\gamma_b\\end{smallmatrix}\\right]\n",
      "$$"
     ]
    },
    {
     "cell_type": "markdown",
     "metadata": {},
     "source": [
      "This means that our vortex arrays will each be (Nx1) arrays containing partial summations over the $B_{ij}$ matrix. The Kutta conditions will follow a similar form, except each will be an (1x(N+2)) array. For the first row (representing the main airfoil): "
     ]
    },
    {
     "cell_type": "markdown",
     "metadata": {},
     "source": [
      "$$[\\begin{smallmatrix}-(A^t_{11}+A^t_{N_{main}1})\\cdots -(A^t_{N_{main}N} + A^t_{N_{main}N}), -\\sum_{j=1}^{N_{main}}(B^t_{1j}+B^t_{N_{main}j}), -\\sum_{j=1}^{N_{main}}(B^t_{N_{main+1}j}+B^t_{Nj})\\end{smallmatrix}]$$"
     ]
    },
    {
     "cell_type": "markdown",
     "metadata": {},
     "source": [
      "Notice now that we're summing only over the first half of the columns in the first Kutta condition, corresponding to the main airfoil. Similarly, the second Kutta condition is:"
     ]
    },
    {
     "cell_type": "markdown",
     "metadata": {},
     "source": [
      "$$[\\begin{smallmatrix}-(A^t_{N_{main+1}1}+A^t_{N1})\\cdots -(A^t_{N_{main}N} + A^t_{NN}), -\\sum_{j=N_{main+1}}^{N}(B^t_{1j}+B^t_{N_{main+1}j}), -\\sum_{j=N_{main+1}}^{N}(B^t_{N_{main+1}j}+B^t_{Nj})\\end{smallmatrix}]$$"
     ]
    },
    {
     "cell_type": "markdown",
     "metadata": {},
     "source": [
      "These arrays for the Kutta conditions fall out of the math carried out during our in-class derivation exercise. Two critical relations between the $B_{ij}$ and $A_{ij}$ matrices come from the trigonometric sines and cosines used to find the normal and tangential components. In essense:"
     ]
    },
    {
     "cell_type": "markdown",
     "metadata": {},
     "source": [
      "$$B_{ij}^{n} = -A_{ij}^{t}$$\n",
      "$$B_{ij}^{t} = A_{ij}^{n}$$"
     ]
    },
    {
     "cell_type": "markdown",
     "metadata": {},
     "source": [
      "We finally have everything we need to build our linear system in one go! Hold on, it's about to get mathematical:"
     ]
    },
    {
     "cell_type": "code",
     "collapsed": false,
     "input": [
      "def build_matrix(panels):\n",
      "    \"\"\"Builds the matrix of the linear system.\n",
      "    \n",
      "    Arguments\n",
      "    ---------\n",
      "    panels -- array of panels.\n",
      "    \n",
      "    Returns\n",
      "    -------\n",
      "    A -- (N+2)x(N+2) system matrix (N is the number of panels).\n",
      "    a_t -- (N)x(N+2) Aij tangential matrix for use in finding v_t\n",
      "    \"\"\"\n",
      "    # Initialize our variables\n",
      "    N = len(panels)\n",
      "    ak = numpy.empty((2,N+2), dtype=float)\n",
      "    a_t = numpy.zeros((N,N+2), dtype=float)\n",
      "    at1, at2 = numpy.zeros((N), dtype=float), numpy.zeros((N), dtype=float)\n",
      "    av = numpy.empty((N,2), dtype=float)\n",
      "    A = numpy.empty((N+2,N+2), dtype=float)\n",
      "    Bn = numpy.empty((N,N), dtype=float)\n",
      "    numpy.fill_diagonal(Bn, 0.0)\n",
      "    \n",
      "    # Get our source matrix, the normal form of Aij    \n",
      "    An = source_matrix(panels)\n",
      "    \n",
      "    # Build our Bij normal matrix\n",
      "    for i, p_i in enumerate(panels):\n",
      "        for j, p_j in enumerate(panels):\n",
      "            if i != j:\n",
      "                Bn[i,j] = -0.5/numpy.pi*integral(p_i.xc, p_i.yc, p_j, numpy.sin(p_i.beta), -numpy.cos(p_i.beta))\n",
      "    \n",
      "    # Create our vortex arrays by summing across the rows of Bij normal\n",
      "    for i, p_i in enumerate(panels):\n",
      "        av[i,0] = numpy.sum(Bn[i,:N/2])\n",
      "        av[i,1] = numpy.sum(Bn[i,N/2:])\n",
      "    \n",
      "    # Build the last two columns of our Aij tangential matrix\n",
      "    for i, p_i in enumerate(panels):\n",
      "        at1[i] = numpy.sum(An[i,:N/2])\n",
      "        at2[i] = numpy.sum(An[i,N/2:])\n",
      "    \n",
      "    # Our Bij normal is the same as our Aij tangential\n",
      "    a_t[:N,:N] = Bn\n",
      "    \n",
      "    # The last two columns of Aij tangential come from Bij tangential,\n",
      "    # or as we have done, from -Aij normal summations\n",
      "    a_t[:,-2], a_t[:,-1] = -at1, -at2\n",
      "    \n",
      "    # Enforce our kutta conditions on the two airfoils by summing the\n",
      "    # rows of Aij tangential corresponding to the TE panels\n",
      "    ak[0,:], ak[1,:] = a_t[0,:] + a_t[N/2-1,:], a_t[N/2,:] + a_t[-1,:]\n",
      "    \n",
      "    # Put it all together\n",
      "    A[0:N,0:N], A[0:N,N:], A[N:,:] = An, av, ak\n",
      "    \n",
      "    return A, a_t"
     ],
     "language": "python",
     "metadata": {},
     "outputs": [],
     "prompt_number": 28
    },
    {
     "cell_type": "markdown",
     "metadata": {},
     "source": [
      "Just like that, we've got ourselves a two-body solver. The next few steps involve a couple Python tricks, so pay attention! First, let's set our initial conditions:"
     ]
    },
    {
     "cell_type": "code",
     "collapsed": false,
     "input": [
      "# Given\n",
      "u_inf = 1.0\n",
      "alpha = 0.0              # Angle of Attack for the flow\n",
      "N = 150                # The number of panels on each airfoil\n",
      "Nx, Ny = 50, 50          # The size of our velocity and Cp grids\n",
      "steps = 5                # This is the number of different angles to simulate "
     ],
     "language": "python",
     "metadata": {},
     "outputs": [],
     "prompt_number": 29
    },
    {
     "cell_type": "markdown",
     "metadata": {},
     "source": [
      "Afterwards, we'll read our geometry again (using the same variables, just to save some space)."
     ]
    },
    {
     "cell_type": "code",
     "collapsed": false,
     "input": [
      "with open ('NACA23012_MainFoil.csv') as file_name:\n",
      "    xm, ym = numpy.genfromtxt(file_name, dtype=float, delimiter=',', unpack=True)\n",
      "\n",
      "with open ('NACA23012_FlapFoil.csv') as file_name:\n",
      "    xf, yf = numpy.genfromtxt(file_name, dtype=float, delimiter=',', unpack=True)"
     ],
     "language": "python",
     "metadata": {},
     "outputs": [],
     "prompt_number": 30
    },
    {
     "cell_type": "markdown",
     "metadata": {},
     "source": [
      "Then let's go ahead and set a couple useful variables for the simulation to come."
     ]
    },
    {
     "cell_type": "code",
     "collapsed": false,
     "input": [
      "l_total = (numpy.max(xm)-numpy.min(xm)) + (numpy.max(xf)-numpy.min(xf))\n",
      "xc, yc = 1.03, -0.054\n",
      "angles = numpy.linspace(0.,25.,steps)"
     ],
     "language": "python",
     "metadata": {},
     "outputs": [],
     "prompt_number": 31
    },
    {
     "cell_type": "markdown",
     "metadata": {},
     "source": [
      "Now we have the total chord length of the airfoils, the rotation center for our flap, and the angles that we want to simulate the flow at! For completeness, we'll define some placeholders for the coming math."
     ]
    },
    {
     "cell_type": "code",
     "collapsed": false,
     "input": [
      "# Initialize Variables\n",
      "panels = numpy.empty((steps), dtype=object)\n",
      "panel_main = numpy.empty((steps), dtype=object)\n",
      "panel_flap = numpy.empty((steps), dtype=object)\n",
      "xf_plot = numpy.empty((steps), dtype=object)\n",
      "yf_plot = numpy.empty((steps), dtype=object)\n",
      "u, v = numpy.empty((steps, Nx, Ny), dtype=float), \\\n",
      "        numpy.empty((steps, Nx, Ny), dtype=float)\n",
      "cp = numpy.empty((steps, Nx, Ny), dtype=float)\n",
      "accuracy = numpy.empty(steps, dtype=float)\n",
      "cl = numpy.empty(steps, dtype=float)"
     ],
     "language": "python",
     "metadata": {},
     "outputs": [],
     "prompt_number": 32
    },
    {
     "cell_type": "markdown",
     "metadata": {},
     "source": [
      "We're creating 2D arrays for the panel arrays because we plan to flex our python animation skills at the end - don't be afraid! Now that we've got that out of the way, let's go ahead and get back to basics: loading the airfoil and rotating our flap! In order to animate our $C_{p}$ and streamlines later, we'll need to step through our angles array using the handy enumerate function."
     ]
    },
    {
     "cell_type": "code",
     "collapsed": false,
     "input": [
      "# Set up the geometry\n",
      "pyplot.figure(figsize=(10,2))\n",
      "val_x, val_y = 0.5, 0.5\n",
      "x_min, x_max = xm.min(), xf.max()\n",
      "y_min, y_max = yf.min(), ym.max()\n",
      "x_start, x_end = x_min-val_x*(x_max-x_min), x_max+val_x*(x_max-x_min)\n",
      "y_start, y_end = y_min-val_y*(y_max-y_min), y_max+val_y*(y_max-y_min)\n",
      "\n",
      "for i, theta in enumerate(angles):     \n",
      "        \n",
      "    x, y = theta_transform(xf, yf, xc, yc, theta)\n",
      "    \n",
      "    pyplot.plot(xm, ym,  color='k', linestyle='-', linewidth=2);\n",
      "    pyplot.plot(xf, yf,  color='k', linestyle='-', linewidth=2);\n",
      "    panel_main[i] = define_panels(xm, ym, N)\n",
      "    panel_flap[i] = define_panels(x, y, N)\n",
      "    panels[i] = numpy.concatenate((panel_main[i], panel_flap[i]), axis = 0)\n",
      "    \n",
      "    # Check the data points\n",
      "    pyplot.plot(xm, ym, x, y,  color='k', linestyle='-', linewidth=2)\n",
      "    \n",
      "    pyplot.scatter([panel.xa for panel in panel_main[i]], [panel.ya for panel in panel_main[i]], color='r');\n",
      "    pyplot.scatter([panel.xa for panel in panel_flap[i]], [panel.ya for panel in panel_flap[i]], color='r');\n",
      "    pyplot.grid()\n",
      "    \n",
      "    xf_plot[i], yf_plot[i] = x, y"
     ],
     "language": "python",
     "metadata": {},
     "outputs": [
      {
       "metadata": {},
       "output_type": "display_data",
       "png": "[encoded data removed]",
       "text": [
        "<matplotlib.figure.Figure at 0xe635a20>"
       ]
      }
     ],
     "prompt_number": 33
    },
    {
     "cell_type": "markdown",
     "metadata": {},
     "source": [
      "Pretty cool, right? It's nice to see things starting to come together! The key difference between the analysis performed in notebook 11 and this one is the idea of thinking in more dimensions. We have created arrays of arrays here (2D matrices, to most!), and we're accessing each one when we want to view a particular flow. We've also got arrays of matrices (3D matrices) for our plotting variables, and it can be tough to keep track of everything. The important thing is to find a way of visualizing the data that you understand, so you can see what data you are accessing in your mind's eye!"
     ]
    },
    {
     "cell_type": "markdown",
     "metadata": {},
     "source": [
      "Moving past lofty talk of higher order data structures, we can really start the math (about time)..."
     ]
    },
    {
     "cell_type": "code",
     "collapsed": false,
     "input": [
      "# Create the freestream\n",
      "freestream = Freestream(u_inf, alpha)\n",
      "\n",
      "# Get our scaling right for the plots\n",
      "val_x, val_y = 2.0, 4.0\n",
      "x_min, x_max = numpy.min( [panel.xa for panel in panel_main[0]] ), numpy.max( [panel.xa for panel in panel_flap[0]] )\n",
      "y_min, y_max = numpy.min( [panel.ya for panel in panel_flap[0]] ), numpy.max( [panel.ya for panel in panel_main[0]] )\n",
      "x_start, x_end = x_min-val_x*(x_max-x_min), x_max+val_x*(x_max-x_min)\n",
      "y_start, y_end = y_min-val_y*(y_max-y_min), y_max+val_y*(y_max-y_min)\n",
      "\n",
      "# Create our meshgrid for the plots\n",
      "X, Y = numpy.meshgrid(numpy.linspace(x_start, 2.*x_end, Nx), numpy.linspace(y_start, y_end, Ny))"
     ],
     "language": "python",
     "metadata": {},
     "outputs": [],
     "prompt_number": 34
    },
    {
     "cell_type": "markdown",
     "metadata": {},
     "source": [
      "...and now to throw our legacy code into a handy for loop. Beware, this is going to take a bit to run. Take this time to really think about what we've done so far; how could you speed up the calculations that are occurring? Where do you think the biggest bottleneck is? As with any code, there is always room for improvement - and in that way, the method of open-source truly shines!"
     ]
    },
    {
     "cell_type": "code",
     "collapsed": false,
     "input": [
      "# Run through all the simulations\n",
      "for i in xrange(steps):\n",
      "    A, At = build_matrix(panels[i])\n",
      "    b = build_rhs(panels[i], freestream)\n",
      "    variables = numpy.linalg.solve(A,b)\n",
      "\n",
      "    for j, panel in enumerate(panels[i]):\n",
      "        panel.sigma = variables[j]\n",
      "\n",
      "    gamma = variables[-2:]\n",
      "    get_tangential_velocity(panels[i], freestream, gamma, At)\n",
      "    get_pressure_coefficient(panels[i], freestream)\n",
      "\n",
      "    u[i,:,:], v[i,:,:] = get_velocity_field(panels[i], freestream, X, Y)\n",
      "    cp[i,:,:] = 1.0 - (u[i,:,:]**2+v[i,:,:]**2)/freestream.u_inf**2\n",
      "    panel_main[i], panel_flap[i] = panels[0:N-1], panels[N:]"
     ],
     "language": "python",
     "metadata": {},
     "outputs": [],
     "prompt_number": 38
    },
    {
     "cell_type": "markdown",
     "metadata": {},
     "source": []
    },
    {
     "cell_type": "code",
     "collapsed": false,
     "input": [
      "view = -1\n",
      "val_x, val_y = 0.10, 0.20\n",
      "x_min, x_max = numpy.min( [panel.xa for panel in panel_main[view]] ), numpy.max( [panel.xa for panel in panel_main[view]] )\n",
      "cp_min, cp_max = numpy.min( [panel.cp for panel in panel_main[view,:]] ), numpy.max( [panel.cp for panel in panel_main[view,:]] )\n",
      "x_start, x_end = x_min - val_x * (x_max-x_min), x_max + val_x * (x_max-x_min)\n",
      "y_start, y_end = cp_min - val_y * (cp_max-cp_min), cp_max + val_y * (cp_max-cp_min)\n",
      "\n",
      "pyplot.figure(figsize=(10, 6))\n",
      "pyplot.grid(True)\n",
      "pyplot.xlabel('x', fontsize=16)\n",
      "pyplot.ylabel('$C_p$', fontsize=16)\n",
      "pyplot.plot([panel.xc for panel in panel_main[view,:] if panel.loc == 'extrados'], \n",
      "         [panel.cp for panel in panel_main[view,:] if panel.loc == 'extrados'], \n",
      "         color='r', linestyle='-', linewidth=2, marker='o', markersize=6)\n",
      "pyplot.plot([panel.xc for panel in panel_main[view,:] if panel.loc == 'intrados'], \n",
      "         [panel.cp for panel in panel_main[view,:] if panel.loc == 'intrados'], \n",
      "         color='b', linestyle='-', linewidth=1, marker='o', markersize=6)\n",
      "pyplot.legend(['extrados', 'intrados'], loc='best', prop={'size':14})\n",
      "pyplot.xlim(x_start, x_end)\n",
      "pyplot.ylim(y_start, y_end)\n",
      "pyplot.gca().invert_yaxis()\n",
      "pyplot.title('Number of panels for main airfoil: %d' % N)"
     ],
     "language": "python",
     "metadata": {},
     "outputs": [
      {
       "ename": "IndexError",
       "evalue": "too many indices for array",
       "output_type": "pyerr",
       "traceback": [
        "\u001b[1;31m---------------------------------------------------------------------------\u001b[0m\n\u001b[1;31mIndexError\u001b[0m                                Traceback (most recent call last)",
        "\u001b[1;32m<ipython-input-39-9b359c9b919a>\u001b[0m in \u001b[0;36m<module>\u001b[1;34m()\u001b[0m\n\u001b[0;32m      1\u001b[0m \u001b[0mview\u001b[0m \u001b[1;33m=\u001b[0m \u001b[1;33m-\u001b[0m\u001b[1;36m1\u001b[0m\u001b[1;33m\u001b[0m\u001b[0m\n\u001b[0;32m      2\u001b[0m \u001b[0mval_x\u001b[0m\u001b[1;33m,\u001b[0m \u001b[0mval_y\u001b[0m \u001b[1;33m=\u001b[0m \u001b[1;36m0.10\u001b[0m\u001b[1;33m,\u001b[0m \u001b[1;36m0.20\u001b[0m\u001b[1;33m\u001b[0m\u001b[0m\n\u001b[1;32m----> 3\u001b[1;33m \u001b[0mx_min\u001b[0m\u001b[1;33m,\u001b[0m \u001b[0mx_max\u001b[0m \u001b[1;33m=\u001b[0m \u001b[0mnumpy\u001b[0m\u001b[1;33m.\u001b[0m\u001b[0mmin\u001b[0m\u001b[1;33m(\u001b[0m \u001b[1;33m[\u001b[0m\u001b[0mpanel\u001b[0m\u001b[1;33m.\u001b[0m\u001b[0mxa\u001b[0m \u001b[1;32mfor\u001b[0m \u001b[0mpanel\u001b[0m \u001b[1;32min\u001b[0m \u001b[0mpanel_main\u001b[0m\u001b[1;33m[\u001b[0m\u001b[0mview\u001b[0m\u001b[1;33m,\u001b[0m\u001b[1;33m:\u001b[0m\u001b[1;33m]\u001b[0m\u001b[1;33m]\u001b[0m \u001b[1;33m)\u001b[0m\u001b[1;33m,\u001b[0m \u001b[0mnumpy\u001b[0m\u001b[1;33m.\u001b[0m\u001b[0mmax\u001b[0m\u001b[1;33m(\u001b[0m \u001b[1;33m[\u001b[0m\u001b[0mpanel\u001b[0m\u001b[1;33m.\u001b[0m\u001b[0mxa\u001b[0m \u001b[1;32mfor\u001b[0m \u001b[0mpanel\u001b[0m \u001b[1;32min\u001b[0m \u001b[0mpanel_main\u001b[0m\u001b[1;33m[\u001b[0m\u001b[0mview\u001b[0m\u001b[1;33m,\u001b[0m\u001b[1;33m:\u001b[0m\u001b[1;33m]\u001b[0m\u001b[1;33m]\u001b[0m \u001b[1;33m)\u001b[0m\u001b[1;33m\u001b[0m\u001b[0m\n\u001b[0m\u001b[0;32m      4\u001b[0m \u001b[0mcp_min\u001b[0m\u001b[1;33m,\u001b[0m \u001b[0mcp_max\u001b[0m \u001b[1;33m=\u001b[0m \u001b[0mnumpy\u001b[0m\u001b[1;33m.\u001b[0m\u001b[0mmin\u001b[0m\u001b[1;33m(\u001b[0m \u001b[1;33m[\u001b[0m\u001b[0mpanel\u001b[0m\u001b[1;33m.\u001b[0m\u001b[0mcp\u001b[0m \u001b[1;32mfor\u001b[0m \u001b[0mpanel\u001b[0m \u001b[1;32min\u001b[0m \u001b[0mpanel_main\u001b[0m\u001b[1;33m[\u001b[0m\u001b[0mview\u001b[0m\u001b[1;33m,\u001b[0m\u001b[1;33m:\u001b[0m\u001b[1;33m]\u001b[0m\u001b[1;33m]\u001b[0m \u001b[1;33m)\u001b[0m\u001b[1;33m,\u001b[0m \u001b[0mnumpy\u001b[0m\u001b[1;33m.\u001b[0m\u001b[0mmax\u001b[0m\u001b[1;33m(\u001b[0m \u001b[1;33m[\u001b[0m\u001b[0mpanel\u001b[0m\u001b[1;33m.\u001b[0m\u001b[0mcp\u001b[0m \u001b[1;32mfor\u001b[0m \u001b[0mpanel\u001b[0m \u001b[1;32min\u001b[0m \u001b[0mpanel_main\u001b[0m\u001b[1;33m[\u001b[0m\u001b[0mview\u001b[0m\u001b[1;33m,\u001b[0m\u001b[1;33m:\u001b[0m\u001b[1;33m]\u001b[0m\u001b[1;33m]\u001b[0m \u001b[1;33m)\u001b[0m\u001b[1;33m\u001b[0m\u001b[0m\n\u001b[0;32m      5\u001b[0m \u001b[0mx_start\u001b[0m\u001b[1;33m,\u001b[0m \u001b[0mx_end\u001b[0m \u001b[1;33m=\u001b[0m \u001b[0mx_min\u001b[0m \u001b[1;33m-\u001b[0m \u001b[0mval_x\u001b[0m \u001b[1;33m*\u001b[0m \u001b[1;33m(\u001b[0m\u001b[0mx_max\u001b[0m\u001b[1;33m-\u001b[0m\u001b[0mx_min\u001b[0m\u001b[1;33m)\u001b[0m\u001b[1;33m,\u001b[0m \u001b[0mx_max\u001b[0m \u001b[1;33m+\u001b[0m \u001b[0mval_x\u001b[0m \u001b[1;33m*\u001b[0m \u001b[1;33m(\u001b[0m\u001b[0mx_max\u001b[0m\u001b[1;33m-\u001b[0m\u001b[0mx_min\u001b[0m\u001b[1;33m)\u001b[0m\u001b[1;33m\u001b[0m\u001b[0m\n",
        "\u001b[1;31mIndexError\u001b[0m: too many indices for array"
       ]
      }
     ],
     "prompt_number": 39
    },
    {
     "cell_type": "markdown",
     "metadata": {},
     "source": [
      "http://socialarchive.iath.virginia.edu/xtf/view?docId=fowler-harlan-davey-1895--cr.xml\n",
      "\n",
      "Paulson, John W. Jr., *\"Wind-Tunnel Investigation of a Fowler Flap and Spoiler for an Advanced General Aviation Wing,\"* Langley Research Center, Hampton, VA 23665. June 1976. NASA TN D-8236.\n",
      "\n"
     ]
    },
    {
     "cell_type": "code",
     "collapsed": false,
     "input": [
      "from IPython.core.display import HTML\n",
      "def css_styling():\n",
      "    styles = open(\"styles/custom.css\", \"r\").read()\n",
      "    return HTML(styles)\n",
      "css_styling();"
     ],
     "language": "python",
     "metadata": {},
     "outputs": []
    }
   ],
   "metadata": {}
  }
 ]
}